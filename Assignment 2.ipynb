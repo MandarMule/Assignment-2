{
 "cells": [
  {
   "cell_type": "code",
   "execution_count": null,
   "id": "f686c255-3fd7-42db-b6a2-dd535e557424",
   "metadata": {},
   "outputs": [],
   "source": [
    "Q1. Which keyword is used to create a function? Create a function to return a list of odd numbers in the\n",
    "range of 1 to 25.\n",
    "Ans- def is keyword used to create a function."
   ]
  },
  {
   "cell_type": "code",
   "execution_count": 3,
   "id": "1592c0bb-1a6b-462f-a014-e1c4a6fd1798",
   "metadata": {},
   "outputs": [
    {
     "data": {
      "text/plain": [
       "[1, 3, 5, 7, 9, 11, 13, 15, 17, 19, 21, 23]"
      ]
     },
     "execution_count": 3,
     "metadata": {},
     "output_type": "execute_result"
    }
   ],
   "source": [
    "def odd_num():\n",
    "    l=[]\n",
    "    for i in range(1,25):\n",
    "        if i%2== 1:\n",
    "            l.append(i)\n",
    "    return l \n",
    "odd_num()\n",
    "    "
   ]
  },
  {
   "cell_type": "code",
   "execution_count": null,
   "id": "750becff-01ef-4142-9ac7-330935f7a03d",
   "metadata": {},
   "outputs": [],
   "source": [
    "Q2. Why *args and **kwargs is used in some functions? Create a function each for *args and **kwargs\n",
    "to demonstrate their use."
   ]
  },
  {
   "cell_type": "code",
   "execution_count": null,
   "id": "0cdbbde8-b606-4f7e-90b0-3553d1e6e1c9",
   "metadata": {},
   "outputs": [],
   "source": [
    "while creating function we have to pass the values , which called as function arguments. Let for ex when we have to create function to add two values\n",
    "like \n",
    "# def add(x,y):\n",
    "#     return x+y\n",
    " here output is possible but when function modifies to add three vales and that time if we pass two values then it shows error or not execute.\n",
    "in such condition *args and **kwargs are used to pass multiple numbers of values. *-*kwargs is used to pass variable numbers of keywords arguments to python.\n",
    "double asterisk shows it is this type of argument.\n",
    "         "
   ]
  },
  {
   "cell_type": "code",
   "execution_count": 7,
   "id": "b1406a7d-563e-42ca-aecf-b5f44faef821",
   "metadata": {},
   "outputs": [
    {
     "name": "stdout",
     "output_type": "stream",
     "text": [
      "(20,)\n",
      "(160,)\n",
      "(17396400,)\n"
     ]
    }
   ],
   "source": [
    "def multiply(*args):\n",
    "    return args\n",
    "print(multiply(4*5))\n",
    "print(multiply(5*4*8))\n",
    "print(multiply(6*7*95*8*545))\n"
   ]
  },
  {
   "cell_type": "code",
   "execution_count": 9,
   "id": "0aa4a535-82e8-4f7f-96d6-2f50d7074296",
   "metadata": {},
   "outputs": [
    {
     "name": "stdout",
     "output_type": "stream",
     "text": [
      "{'cricket': 11, 'kabbadi': 8, 'carrom': 4}\n"
     ]
    }
   ],
   "source": [
    "def players_in_sports_team(**kwargs):\n",
    "    print(kwargs)\n",
    "players_in_sports_team(cricket=11, kabbadi= 8, carrom= 4)"
   ]
  },
  {
   "cell_type": "code",
   "execution_count": null,
   "id": "66adff87-41fc-418a-b297-1ea5c4c7ba4d",
   "metadata": {},
   "outputs": [],
   "source": [
    "Q3. What is an iterator in python? Name the method used to initialise the iterator object and the method\n",
    "used for iteration. Use these methods to print the first five elements of the given list [2, 4, 6, 8, 10, 12, 14,\n",
    "16, 18, 20]."
   ]
  },
  {
   "cell_type": "code",
   "execution_count": null,
   "id": "01220e07-8435-4045-a4fa-ebc869f42806",
   "metadata": {},
   "outputs": [],
   "source": [
    "Iterator is object that allows us to iterate oven an data from list, tuple, set. Iter() is method used to initialise the iterator operator.\n",
    "next() is the method for iteration. "
   ]
  },
  {
   "cell_type": "code",
   "execution_count": 18,
   "id": "1e987716-5e08-418f-b6f0-48a554c98731",
   "metadata": {},
   "outputs": [],
   "source": [
    "l=[2,4,6,8,10,12,14,16,18,20]\n"
   ]
  },
  {
   "cell_type": "code",
   "execution_count": 19,
   "id": "b5e541a9-ced2-4675-b93c-0dda2083579a",
   "metadata": {},
   "outputs": [],
   "source": [
    "l2=iter(l)"
   ]
  },
  {
   "cell_type": "code",
   "execution_count": 20,
   "id": "b8d2574c-3c5d-400e-9464-cfc754975ca8",
   "metadata": {},
   "outputs": [
    {
     "data": {
      "text/plain": [
       "2"
      ]
     },
     "execution_count": 20,
     "metadata": {},
     "output_type": "execute_result"
    }
   ],
   "source": [
    "next(l2)"
   ]
  },
  {
   "cell_type": "code",
   "execution_count": 21,
   "id": "6ae49cb1-3aff-4896-88b5-c90710beabd6",
   "metadata": {},
   "outputs": [
    {
     "data": {
      "text/plain": [
       "4"
      ]
     },
     "execution_count": 21,
     "metadata": {},
     "output_type": "execute_result"
    }
   ],
   "source": [
    "next(l2)"
   ]
  },
  {
   "cell_type": "code",
   "execution_count": 22,
   "id": "9b0c4b96-1f9f-4763-af7a-39548fee8569",
   "metadata": {},
   "outputs": [
    {
     "data": {
      "text/plain": [
       "6"
      ]
     },
     "execution_count": 22,
     "metadata": {},
     "output_type": "execute_result"
    }
   ],
   "source": [
    "next(l2)"
   ]
  },
  {
   "cell_type": "code",
   "execution_count": null,
   "id": "ef2f9d1e-03f5-4d4b-a040-3b11bda076b3",
   "metadata": {},
   "outputs": [],
   "source": [
    "Q4.What is a generator function in python? Why yield keyword is used? Give an example of a generator\n",
    "function."
   ]
  },
  {
   "cell_type": "code",
   "execution_count": null,
   "id": "117444f7-41ad-43e8-9153-4fb16b761ef5",
   "metadata": {},
   "outputs": [],
   "source": [
    "Generator () behaves like iterator and act as eaiest way to create iteration. Yield keyword acts as return keyword which return back the value we want.\n"
   ]
  },
  {
   "cell_type": "code",
   "execution_count": 28,
   "id": "7df610c2-663a-4908-9d83-3aa51943c8be",
   "metadata": {},
   "outputs": [
    {
     "data": {
      "text/plain": [
       "[9]"
      ]
     },
     "execution_count": 28,
     "metadata": {},
     "output_type": "execute_result"
    }
   ],
   "source": [
    "def add(a,b):\n",
    "    c=a+b\n",
    "    yield c\n",
    "list(add(5,4))\n",
    "    "
   ]
  },
  {
   "cell_type": "code",
   "execution_count": null,
   "id": "51e328cd-6593-4891-b377-3bb3f3f42fc2",
   "metadata": {},
   "outputs": [],
   "source": [
    "Q5.Create a generator function for prime numbers less than 1000. Use the next() method to print the\n",
    "first 20 prime numbers."
   ]
  },
  {
   "cell_type": "code",
   "execution_count": 53,
   "id": "0f98602a-4944-4551-a7a1-439a931a3c94",
   "metadata": {},
   "outputs": [],
   "source": [
    "def prime_funct():\n",
    "    prime=[]\n",
    "    for i in range(2,1001):\n",
    "        isPrime = True\n",
    "        for j in range(2,i):\n",
    "            if i%j==0:\n",
    "                isPrime = False\n",
    "        if isPrime:\n",
    "            prime.append(i)\n",
    "    yield prime"
   ]
  },
  {
   "cell_type": "code",
   "execution_count": 54,
   "id": "1c6d4f66-f4a8-4ece-b603-3203d072f713",
   "metadata": {},
   "outputs": [
    {
     "name": "stdout",
     "output_type": "stream",
     "text": [
      "[2, 3, 5, 7, 11, 13, 17, 19, 23, 29, 31, 37, 41, 43, 47, 53, 59, 61, 67, 71, 73, 79, 83, 89, 97, 101, 103, 107, 109, 113, 127, 131, 137, 139, 149, 151, 157, 163, 167, 173, 179, 181, 191, 193, 197, 199, 211, 223, 227, 229, 233, 239, 241, 251, 257, 263, 269, 271, 277, 281, 283, 293, 307, 311, 313, 317, 331, 337, 347, 349, 353, 359, 367, 373, 379, 383, 389, 397, 401, 409, 419, 421, 431, 433, 439, 443, 449, 457, 461, 463, 467, 479, 487, 491, 499, 503, 509, 521, 523, 541, 547, 557, 563, 569, 571, 577, 587, 593, 599, 601, 607, 613, 617, 619, 631, 641, 643, 647, 653, 659, 661, 673, 677, 683, 691, 701, 709, 719, 727, 733, 739, 743, 751, 757, 761, 769, 773, 787, 797, 809, 811, 821, 823, 827, 829, 839, 853, 857, 859, 863, 877, 881, 883, 887, 907, 911, 919, 929, 937, 941, 947, 953, 967, 971, 977, 983, 991, 997]\n"
     ]
    }
   ],
   "source": [
    "for h in prime_funct():\n",
    "    print(h)"
   ]
  },
  {
   "cell_type": "code",
   "execution_count": 56,
   "id": "126ad85c-5c38-448c-b5b3-0e5394b2aefc",
   "metadata": {},
   "outputs": [],
   "source": [
    "k=iter(h)"
   ]
  },
  {
   "cell_type": "code",
   "execution_count": 58,
   "id": "1b2a0762-2803-4ec5-8a16-be004333e2a3",
   "metadata": {},
   "outputs": [
    {
     "data": {
      "text/plain": [
       "2"
      ]
     },
     "execution_count": 58,
     "metadata": {},
     "output_type": "execute_result"
    }
   ],
   "source": [
    "next(k)\n"
   ]
  },
  {
   "cell_type": "code",
   "execution_count": 59,
   "id": "25031dcc-7fa9-4ad6-80c7-7611fe786c71",
   "metadata": {},
   "outputs": [
    {
     "data": {
      "text/plain": [
       "3"
      ]
     },
     "execution_count": 59,
     "metadata": {},
     "output_type": "execute_result"
    }
   ],
   "source": [
    "next(k)"
   ]
  },
  {
   "cell_type": "code",
   "execution_count": 60,
   "id": "e7f04807-06b1-4a96-9b1c-dfa62f9b6677",
   "metadata": {},
   "outputs": [
    {
     "data": {
      "text/plain": [
       "5"
      ]
     },
     "execution_count": 60,
     "metadata": {},
     "output_type": "execute_result"
    }
   ],
   "source": [
    "next(k)"
   ]
  },
  {
   "cell_type": "code",
   "execution_count": 61,
   "id": "b46b0cbe-184c-44d7-9a84-3b1a0bd4bb1c",
   "metadata": {},
   "outputs": [
    {
     "data": {
      "text/plain": [
       "7"
      ]
     },
     "execution_count": 61,
     "metadata": {},
     "output_type": "execute_result"
    }
   ],
   "source": [
    "next(k)"
   ]
  },
  {
   "cell_type": "code",
   "execution_count": 62,
   "id": "744dffb4-81e6-4ae3-8298-a9486aff09db",
   "metadata": {},
   "outputs": [
    {
     "data": {
      "text/plain": [
       "11"
      ]
     },
     "execution_count": 62,
     "metadata": {},
     "output_type": "execute_result"
    }
   ],
   "source": [
    "next(k)"
   ]
  },
  {
   "cell_type": "code",
   "execution_count": 63,
   "id": "59a82764-415f-4bfe-8e84-71fe8a77ac51",
   "metadata": {},
   "outputs": [
    {
     "data": {
      "text/plain": [
       "13"
      ]
     },
     "execution_count": 63,
     "metadata": {},
     "output_type": "execute_result"
    }
   ],
   "source": [
    "next(k)"
   ]
  },
  {
   "cell_type": "code",
   "execution_count": 64,
   "id": "9067bf00-ebce-4e6c-a6ab-c0a344796438",
   "metadata": {},
   "outputs": [
    {
     "data": {
      "text/plain": [
       "17"
      ]
     },
     "execution_count": 64,
     "metadata": {},
     "output_type": "execute_result"
    }
   ],
   "source": [
    "next(k)"
   ]
  },
  {
   "cell_type": "code",
   "execution_count": 65,
   "id": "b2069642-a1e6-4d90-b92a-3bd8c4ba9e02",
   "metadata": {},
   "outputs": [
    {
     "data": {
      "text/plain": [
       "19"
      ]
     },
     "execution_count": 65,
     "metadata": {},
     "output_type": "execute_result"
    }
   ],
   "source": [
    "next(k)"
   ]
  },
  {
   "cell_type": "code",
   "execution_count": null,
   "id": "3e690d0c-ad2d-4865-9b9d-11b77586f460",
   "metadata": {},
   "outputs": [],
   "source": [
    "Q6.Write a python program to print the first 10 Fibonacci numbers using a while loop."
   ]
  },
  {
   "cell_type": "code",
   "execution_count": 81,
   "id": "792c48f6-aded-481f-b1de-db05b6377dcc",
   "metadata": {},
   "outputs": [
    {
     "name": "stdin",
     "output_type": "stream",
     "text": [
      "Enter the number  10\n"
     ]
    },
    {
     "name": "stdout",
     "output_type": "stream",
     "text": [
      "0\n",
      "1\n",
      "1\n",
      "2\n",
      "3\n",
      "5\n",
      "8\n",
      "13\n",
      "21\n",
      "34\n"
     ]
    }
   ],
   "source": [
    "num=int(input(\"Enter the number \"))\n",
    "a,b = 0,1\n",
    "counter = 0\n",
    "while counter < num:\n",
    "    print(a)\n",
    "    a , b = b, a+b\n",
    "    counter = counter + 1\n",
    "    "
   ]
  },
  {
   "cell_type": "code",
   "execution_count": null,
   "id": "97543cc3-6d3f-4460-a406-cd6bd9fb68e5",
   "metadata": {},
   "outputs": [],
   "source": [
    "Q7. Write a List Comprehension to iterate through the given string: ‘pwskills’.\n",
    "Expected output: ['p', 'w', 's', 'k', 'i', 'l', 'l', 's']"
   ]
  },
  {
   "cell_type": "code",
   "execution_count": 82,
   "id": "c3f1030a-d5ae-4741-a198-94a97e37f9eb",
   "metadata": {},
   "outputs": [],
   "source": [
    "string=\"pwskills\""
   ]
  },
  {
   "cell_type": "code",
   "execution_count": 84,
   "id": "f8515e72-9f9f-4f15-a76b-a5745055355d",
   "metadata": {},
   "outputs": [
    {
     "data": {
      "text/plain": [
       "['p', 'w', 's', 'k', 'i', 'l', 'l', 's']"
      ]
     },
     "execution_count": 84,
     "metadata": {},
     "output_type": "execute_result"
    }
   ],
   "source": [
    "[ i for i in string]"
   ]
  },
  {
   "cell_type": "code",
   "execution_count": null,
   "id": "c31a005d-e1d0-4aeb-9e72-fd385152f664",
   "metadata": {},
   "outputs": [],
   "source": [
    "Q9. Write a code to print odd numbers from 1 to 100 using list comprehension."
   ]
  },
  {
   "cell_type": "code",
   "execution_count": 86,
   "id": "37f852da-b710-4541-b9bd-a3f0cf1150bd",
   "metadata": {},
   "outputs": [
    {
     "data": {
      "text/plain": [
       "[0,\n",
       " 2,\n",
       " 4,\n",
       " 6,\n",
       " 8,\n",
       " 10,\n",
       " 12,\n",
       " 14,\n",
       " 16,\n",
       " 18,\n",
       " 20,\n",
       " 22,\n",
       " 24,\n",
       " 26,\n",
       " 28,\n",
       " 30,\n",
       " 32,\n",
       " 34,\n",
       " 36,\n",
       " 38,\n",
       " 40,\n",
       " 42,\n",
       " 44,\n",
       " 46,\n",
       " 48,\n",
       " 50,\n",
       " 52,\n",
       " 54,\n",
       " 56,\n",
       " 58,\n",
       " 60,\n",
       " 62,\n",
       " 64,\n",
       " 66,\n",
       " 68,\n",
       " 70,\n",
       " 72,\n",
       " 74,\n",
       " 76,\n",
       " 78,\n",
       " 80,\n",
       " 82,\n",
       " 84,\n",
       " 86,\n",
       " 88,\n",
       " 90,\n",
       " 92,\n",
       " 94,\n",
       " 96,\n",
       " 98]"
      ]
     },
     "execution_count": 86,
     "metadata": {},
     "output_type": "execute_result"
    }
   ],
   "source": [
    "[ i for i in range(0,100) if i%2==0]"
   ]
  },
  {
   "cell_type": "code",
   "execution_count": null,
   "id": "cd5abe24-447f-49a3-827c-e22cf97ab404",
   "metadata": {},
   "outputs": [],
   "source": [
    "Q8. Write a python program to check whether a given number is Palindrome or not using a while loop."
   ]
  },
  {
   "cell_type": "code",
   "execution_count": 2,
   "id": "2d781d03-b6b1-4772-bcc9-b077006f300d",
   "metadata": {},
   "outputs": [
    {
     "name": "stdin",
     "output_type": "stream",
     "text": [
      "Enter number: 12541\n"
     ]
    },
    {
     "name": "stdout",
     "output_type": "stream",
     "text": [
      "The number isn't a palindrome!\n"
     ]
    }
   ],
   "source": [
    "n=int(input(\"Enter number:\"))\n",
    "temp=n\n",
    "rev=0\n",
    "while(n>0):\n",
    "    dig=n%10\n",
    "    rev=rev*10+dig\n",
    "    n=n//10\n",
    "if(temp==rev):\n",
    "    print(\"The number is a palindrome!\")\n",
    "else:\n",
    "    print(\"The number isn't a palindrome!\")"
   ]
  },
  {
   "cell_type": "code",
   "execution_count": 3,
   "id": "40dea0e5-c2fe-4649-8d72-873d110a649f",
   "metadata": {},
   "outputs": [
    {
     "name": "stdin",
     "output_type": "stream",
     "text": [
      "Enter number: 1221\n"
     ]
    },
    {
     "name": "stdout",
     "output_type": "stream",
     "text": [
      "The number is a palindrome!\n"
     ]
    }
   ],
   "source": [
    "n=int(input(\"Enter number:\"))\n",
    "temp=n\n",
    "rev=0\n",
    "while(n>0):\n",
    "    dig=n%10\n",
    "    rev=rev*10+dig\n",
    "    n=n//10\n",
    "if(temp==rev):\n",
    "    print(\"The number is a palindrome!\")\n",
    "else:\n",
    "    print(\"The number isn't a palindrome!\")"
   ]
  }
 ],
 "metadata": {
  "kernelspec": {
   "display_name": "Python 3 (ipykernel)",
   "language": "python",
   "name": "python3"
  },
  "language_info": {
   "codemirror_mode": {
    "name": "ipython",
    "version": 3
   },
   "file_extension": ".py",
   "mimetype": "text/x-python",
   "name": "python",
   "nbconvert_exporter": "python",
   "pygments_lexer": "ipython3",
   "version": "3.10.8"
  }
 },
 "nbformat": 4,
 "nbformat_minor": 5
}
